{
 "cells": [
  {
   "cell_type": "code",
   "execution_count": 1,
   "metadata": {},
   "outputs": [
    {
     "name": "stdout",
     "output_type": "stream",
     "text": [
      "730 340\n"
     ]
    }
   ],
   "source": [
    "from PIL import Image\n",
    "\n",
    "image=Image.open('japan-government-debt-to-gdp.png')\n",
    "width = image.width\n",
    "height = image.height\n",
    "print(width,height)"
   ]
  },
  {
   "cell_type": "code",
   "execution_count": 2,
   "metadata": {},
   "outputs": [],
   "source": [
    "image_list = []\n",
    "black_list=[]\n",
    "for x in range(height):\n",
    "    scanline_list = []\n",
    "    for y in range(width):\n",
    "        pixel = image.getpixel((y, x))\n",
    "        scanline_list.append(pixel)\n",
    "        if pixel==(0, 0, 0, 255):\n",
    "#             print(x,y,pixel)\n",
    "            black_list.append([x,y])\n",
    "\n",
    "    image_list.append(scanline_list)\n",
    "# print(image_list)"
   ]
  },
  {
   "cell_type": "code",
   "execution_count": 3,
   "metadata": {},
   "outputs": [
    {
     "data": {
      "image/png": "[encoded data removed]",
      "text/plain": [
       "<PIL.Image.Image image mode=RGB size=730x340 at 0x131A83640C8>"
      ]
     },
     "execution_count": 3,
     "metadata": {},
     "output_type": "execute_result"
    }
   ],
   "source": [
    "new_pic=Image.new('RGB',(width,height),(0,0,0))\n",
    "pic=new_pic.load()\n",
    "for pixel in black_list:\n",
    "    pic[pixel[1],pixel[0]] = (0,255,0)     # 绿色\n",
    "new_pic"
   ]
  },
  {
   "cell_type": "code",
   "execution_count": 5,
   "metadata": {},
   "outputs": [
    {
     "data": {
      "image/png": "[encoded data removed]",
      "text/plain": [
       "<PIL.Image.Image image mode=RGB size=730x340 at 0x131A840DB88>"
      ]
     },
     "execution_count": 5,
     "metadata": {},
     "output_type": "execute_result"
    }
   ],
   "source": [
    "new_pic=Image.new('RGB',(width,height),(0,0,0))\n",
    "pic=new_pic.load()\n",
    "for pixel in black_list:\n",
    "    if pixel[1]>670 or pixel[0]>300:\n",
    "        continue\n",
    "    pic[pixel[1],pixel[0]] = (0,255,0)     # 绿色\n",
    "new_pic"
   ]
  },
  {
   "cell_type": "code",
   "execution_count": 7,
   "metadata": {},
   "outputs": [
    {
     "name": "stdout",
     "output_type": "stream",
     "text": [
      "[[36, 636], [37, 620], [38, 651], [39, 573], [39, 604], [44, 557], [45, 589], [49, 542], [58, 526], [78, 510], [88, 494], [113, 479], [122, 432], [123, 447], [124, 463], [129, 416], [132, 400], [140, 385], [168, 369], [181, 353], [192, 337], [212, 322], [230, 306], [232, 290], [243, 275], [254, 259], [262, 243], [269, 149], [271, 228], [272, 165], [273, 133], [277, 118], [277, 181], [277, 196], [278, 102], [278, 212], [280, 86], [288, 71], [293, 55], [300, 39]]\n"
     ]
    },
    {
     "data": {
      "image/png": "[encoded data removed]",
      "text/plain": [
       "<PIL.Image.Image image mode=RGB size=730x340 at 0x131A8404348>"
      ]
     },
     "execution_count": 7,
     "metadata": {},
     "output_type": "execute_result"
    }
   ],
   "source": [
    "new_pic=Image.new('RGB',(width,height),(0,0,0))\n",
    "pic=new_pic.load()\n",
    "data_coor=[]\n",
    "for pixel in black_list:\n",
    "    if pixel[1]>670 or pixel[0]>300:\n",
    "        continue\n",
    "    if [pixel[0],pixel[1]-1]in black_list:\n",
    "#         print('xxx')\n",
    "        continue\n",
    "#     print(pixel)\n",
    "    pic[pixel[1],pixel[0]] = (0,255,0)     # 绿色\n",
    "    data_coor.append(pixel)\n",
    "print(data_coor)    \n",
    "new_pic"
   ]
  },
  {
   "cell_type": "code",
   "execution_count": 8,
   "metadata": {},
   "outputs": [
    {
     "data": {
      "text/html": [
       "<div>\n",
       "<style scoped>\n",
       "    .dataframe tbody tr th:only-of-type {\n",
       "        vertical-align: middle;\n",
       "    }\n",
       "\n",
       "    .dataframe tbody tr th {\n",
       "        vertical-align: top;\n",
       "    }\n",
       "\n",
       "    .dataframe thead th {\n",
       "        text-align: right;\n",
       "    }\n",
       "</style>\n",
       "<table border=\"1\" class=\"dataframe\">\n",
       "  <thead>\n",
       "    <tr style=\"text-align: right;\">\n",
       "      <th></th>\n",
       "      <th>width</th>\n",
       "      <th>height</th>\n",
       "    </tr>\n",
       "  </thead>\n",
       "  <tbody>\n",
       "    <tr>\n",
       "      <th>2019</th>\n",
       "      <td>38</td>\n",
       "      <td>651</td>\n",
       "    </tr>\n",
       "    <tr>\n",
       "      <th>2018</th>\n",
       "      <td>36</td>\n",
       "      <td>636</td>\n",
       "    </tr>\n",
       "    <tr>\n",
       "      <th>2017</th>\n",
       "      <td>37</td>\n",
       "      <td>620</td>\n",
       "    </tr>\n",
       "    <tr>\n",
       "      <th>2016</th>\n",
       "      <td>39</td>\n",
       "      <td>604</td>\n",
       "    </tr>\n",
       "    <tr>\n",
       "      <th>2015</th>\n",
       "      <td>45</td>\n",
       "      <td>589</td>\n",
       "    </tr>\n",
       "  </tbody>\n",
       "</table>\n",
       "</div>"
      ],
      "text/plain": [
       "      width  height\n",
       "2019     38     651\n",
       "2018     36     636\n",
       "2017     37     620\n",
       "2016     39     604\n",
       "2015     45     589"
      ]
     },
     "execution_count": 8,
     "metadata": {},
     "output_type": "execute_result"
    }
   ],
   "source": [
    "import pandas as pd\n",
    "coor_pd=pd.DataFrame(data_coor).sort_values(1,ascending=False)\n",
    "coor_pd.index=[2019-i for i in range(len(coor_pd))]\n",
    "coor_pd.columns=['width','height']\n",
    "coor_pd.head()"
   ]
  },
  {
   "cell_type": "code",
   "execution_count": 9,
   "metadata": {},
   "outputs": [],
   "source": [
    "actual_data=[236.6,238.2,237.6,235.6,231.3,236.1,232.5,229,222.1,207.9]"
   ]
  },
  {
   "cell_type": "markdown",
   "metadata": {},
   "source": [
    "## 使用最近两年的值来估计\n",
    "\n",
    "此处会发现年份越远误差越大，不可行"
   ]
  },
  {
   "cell_type": "code",
   "execution_count": 11,
   "metadata": {},
   "outputs": [
    {
     "name": "stdout",
     "output_type": "stream",
     "text": [
      "38 36\n",
      "-0.7999999999999972 266.9999999999999\n"
     ]
    }
   ],
   "source": [
    "y_coor_2019=coor_pd.loc[2019,'width']\n",
    "y_coor_2018=coor_pd.loc[2018,'width']\n",
    "\n",
    "print(y_coor_2019,y_coor_2018)\n",
    "\n",
    "real_2019=236.6\n",
    "real_2018=238.2\n",
    "\n",
    "a=(real_2019-real_2018)/(y_coor_2019-y_coor_2018)\n",
    "b=real_2019-a*y_coor_2019\n",
    "print(a,b)"
   ]
  },
  {
   "cell_type": "code",
   "execution_count": 12,
   "metadata": {},
   "outputs": [
    {
     "data": {
      "text/html": [
       "<div>\n",
       "<style scoped>\n",
       "    .dataframe tbody tr th:only-of-type {\n",
       "        vertical-align: middle;\n",
       "    }\n",
       "\n",
       "    .dataframe tbody tr th {\n",
       "        vertical-align: top;\n",
       "    }\n",
       "\n",
       "    .dataframe thead th {\n",
       "        text-align: right;\n",
       "    }\n",
       "</style>\n",
       "<table border=\"1\" class=\"dataframe\">\n",
       "  <thead>\n",
       "    <tr style=\"text-align: right;\">\n",
       "      <th></th>\n",
       "      <th>width</th>\n",
       "      <th>height</th>\n",
       "      <th>pred</th>\n",
       "    </tr>\n",
       "  </thead>\n",
       "  <tbody>\n",
       "    <tr>\n",
       "      <th>2019</th>\n",
       "      <td>38</td>\n",
       "      <td>651</td>\n",
       "      <td>236.6</td>\n",
       "    </tr>\n",
       "    <tr>\n",
       "      <th>2018</th>\n",
       "      <td>36</td>\n",
       "      <td>636</td>\n",
       "      <td>238.2</td>\n",
       "    </tr>\n",
       "    <tr>\n",
       "      <th>2017</th>\n",
       "      <td>37</td>\n",
       "      <td>620</td>\n",
       "      <td>237.4</td>\n",
       "    </tr>\n",
       "    <tr>\n",
       "      <th>2016</th>\n",
       "      <td>39</td>\n",
       "      <td>604</td>\n",
       "      <td>235.8</td>\n",
       "    </tr>\n",
       "    <tr>\n",
       "      <th>2015</th>\n",
       "      <td>45</td>\n",
       "      <td>589</td>\n",
       "      <td>231.0</td>\n",
       "    </tr>\n",
       "  </tbody>\n",
       "</table>\n",
       "</div>"
      ],
      "text/plain": [
       "      width  height   pred\n",
       "2019     38     651  236.6\n",
       "2018     36     636  238.2\n",
       "2017     37     620  237.4\n",
       "2016     39     604  235.8\n",
       "2015     45     589  231.0"
      ]
     },
     "execution_count": 12,
     "metadata": {},
     "output_type": "execute_result"
    }
   ],
   "source": [
    "data_pred=[]\n",
    "for year_height in coor_pd['width']:\n",
    "#     print(year_height,year_height*a+b)\n",
    "    data_pred.append(year_height*a+b)\n",
    "coor_pd['pred']=data_pred\n",
    "coor_pd.head()"
   ]
  },
  {
   "cell_type": "code",
   "execution_count": 13,
   "metadata": {},
   "outputs": [
    {
     "data": {
      "image/png": "[encoded data removed]",
      "text/plain": [
       "<Figure size 432x288 with 1 Axes>"
      ]
     },
     "metadata": {
      "needs_background": "light"
     },
     "output_type": "display_data"
    }
   ],
   "source": [
    "import matplotlib.pyplot as plt\n",
    "plt.plot(actual_data,label='actual')\n",
    "plt.plot(coor_pd['pred'][:10].tolist(),label='predict')\n",
    "plt.legend()\n",
    "plt.show()\n"
   ]
  },
  {
   "cell_type": "markdown",
   "metadata": {},
   "source": [
    "## 使用最大最小值来估算"
   ]
  },
  {
   "cell_type": "code",
   "execution_count": 15,
   "metadata": {},
   "outputs": [
    {
     "name": "stdout",
     "output_type": "stream",
     "text": [
      "38 36\n",
      "-0.7106060606060606 263.78181818181815\n"
     ]
    }
   ],
   "source": [
    "y_coor_max=min(coor_pd['width'])\n",
    "y_coor_min=max(coor_pd['width'])\n",
    "\n",
    "print(y_coor_2019,y_coor_2018)\n",
    "\n",
    "real_max=238.2\n",
    "real_min=50.6\n",
    "\n",
    "a=(real_max-real_min)/(y_coor_max-y_coor_min)\n",
    "b=real_max-a*y_coor_max\n",
    "print(a,b)"
   ]
  },
  {
   "cell_type": "code",
   "execution_count": 16,
   "metadata": {},
   "outputs": [
    {
     "name": "stdout",
     "output_type": "stream",
     "text": [
      "      width  height        pred\n",
      "2019     38     651  236.778788\n",
      "2018     36     636  238.200000\n",
      "2017     37     620  237.489394\n",
      "2016     39     604  236.068182\n",
      "2015     45     589  231.804545\n"
     ]
    },
    {
     "data": {
      "image/png": "[encoded data removed]",
      "text/plain": [
       "<Figure size 432x288 with 2 Axes>"
      ]
     },
     "metadata": {
      "needs_background": "light"
     },
     "output_type": "display_data"
    }
   ],
   "source": [
    "data_pred=[]\n",
    "for year_height in coor_pd['width']:\n",
    "#     print(year_height,year_height*a+b)\n",
    "    data_pred.append(year_height*a+b)\n",
    "coor_pd['pred']=data_pred\n",
    "print(coor_pd.head())\n",
    "import matplotlib.pyplot as plt\n",
    "import numpy as np\n",
    "# plt.subplots(2,1)\n",
    "plt.subplot(2,1,1)\n",
    "\n",
    "plt.plot(actual_data,label='actual')\n",
    "plt.plot(coor_pd['pred'][:10].tolist(),label='predict')\n",
    "plt.legend()\n",
    "\n",
    "plt.subplot(2,1,2)\n",
    "\n",
    "plt.bar([i for i in range(10)],np.array(actual_data)-np.array(coor_pd['pred'][:10].tolist()))\n",
    "plt.show()"
   ]
  },
  {
   "cell_type": "markdown",
   "metadata": {},
   "source": [
    "## 下面的乱写的\n"
   ]
  },
  {
   "cell_type": "code",
   "execution_count": 17,
   "metadata": {},
   "outputs": [
    {
     "data": {
      "text/html": [
       "<div>\n",
       "<style scoped>\n",
       "    .dataframe tbody tr th:only-of-type {\n",
       "        vertical-align: middle;\n",
       "    }\n",
       "\n",
       "    .dataframe tbody tr th {\n",
       "        vertical-align: top;\n",
       "    }\n",
       "\n",
       "    .dataframe thead th {\n",
       "        text-align: right;\n",
       "    }\n",
       "</style>\n",
       "<table border=\"1\" class=\"dataframe\">\n",
       "  <thead>\n",
       "    <tr style=\"text-align: right;\">\n",
       "      <th></th>\n",
       "      <th>0</th>\n",
       "    </tr>\n",
       "  </thead>\n",
       "  <tbody>\n",
       "    <tr>\n",
       "      <th>2019</th>\n",
       "      <td>236.6</td>\n",
       "    </tr>\n",
       "    <tr>\n",
       "      <th>2018</th>\n",
       "      <td>238.2</td>\n",
       "    </tr>\n",
       "    <tr>\n",
       "      <th>2017</th>\n",
       "      <td>237.6</td>\n",
       "    </tr>\n",
       "    <tr>\n",
       "      <th>2016</th>\n",
       "      <td>235.6</td>\n",
       "    </tr>\n",
       "    <tr>\n",
       "      <th>2015</th>\n",
       "      <td>231.3</td>\n",
       "    </tr>\n",
       "    <tr>\n",
       "      <th>2014</th>\n",
       "      <td>236.1</td>\n",
       "    </tr>\n",
       "    <tr>\n",
       "      <th>2013</th>\n",
       "      <td>232.5</td>\n",
       "    </tr>\n",
       "    <tr>\n",
       "      <th>2012</th>\n",
       "      <td>229.0</td>\n",
       "    </tr>\n",
       "    <tr>\n",
       "      <th>2011</th>\n",
       "      <td>222.1</td>\n",
       "    </tr>\n",
       "    <tr>\n",
       "      <th>2010</th>\n",
       "      <td>207.9</td>\n",
       "    </tr>\n",
       "  </tbody>\n",
       "</table>\n",
       "</div>"
      ],
      "text/plain": [
       "          0\n",
       "2019  236.6\n",
       "2018  238.2\n",
       "2017  237.6\n",
       "2016  235.6\n",
       "2015  231.3\n",
       "2014  236.1\n",
       "2013  232.5\n",
       "2012  229.0\n",
       "2011  222.1\n",
       "2010  207.9"
      ]
     },
     "execution_count": 17,
     "metadata": {},
     "output_type": "execute_result"
    }
   ],
   "source": [
    "actual_pd=pd.DataFrame(actual_data,index=[2019-i for i in range(10)])\n",
    "actual_pd"
   ]
  },
  {
   "cell_type": "code",
   "execution_count": 18,
   "metadata": {},
   "outputs": [
    {
     "data": {
      "text/html": [
       "<div>\n",
       "<style scoped>\n",
       "    .dataframe tbody tr th:only-of-type {\n",
       "        vertical-align: middle;\n",
       "    }\n",
       "\n",
       "    .dataframe tbody tr th {\n",
       "        vertical-align: top;\n",
       "    }\n",
       "\n",
       "    .dataframe thead th {\n",
       "        text-align: right;\n",
       "    }\n",
       "</style>\n",
       "<table border=\"1\" class=\"dataframe\">\n",
       "  <thead>\n",
       "    <tr style=\"text-align: right;\">\n",
       "      <th></th>\n",
       "      <th>width</th>\n",
       "      <th>height</th>\n",
       "      <th>pred</th>\n",
       "    </tr>\n",
       "  </thead>\n",
       "  <tbody>\n",
       "    <tr>\n",
       "      <th>2019</th>\n",
       "      <td>38</td>\n",
       "      <td>651</td>\n",
       "      <td>236.778788</td>\n",
       "    </tr>\n",
       "    <tr>\n",
       "      <th>2018</th>\n",
       "      <td>36</td>\n",
       "      <td>636</td>\n",
       "      <td>238.200000</td>\n",
       "    </tr>\n",
       "    <tr>\n",
       "      <th>2017</th>\n",
       "      <td>37</td>\n",
       "      <td>620</td>\n",
       "      <td>237.489394</td>\n",
       "    </tr>\n",
       "    <tr>\n",
       "      <th>2016</th>\n",
       "      <td>39</td>\n",
       "      <td>604</td>\n",
       "      <td>236.068182</td>\n",
       "    </tr>\n",
       "    <tr>\n",
       "      <th>2015</th>\n",
       "      <td>45</td>\n",
       "      <td>589</td>\n",
       "      <td>231.804545</td>\n",
       "    </tr>\n",
       "  </tbody>\n",
       "</table>\n",
       "</div>"
      ],
      "text/plain": [
       "      width  height        pred\n",
       "2019     38     651  236.778788\n",
       "2018     36     636  238.200000\n",
       "2017     37     620  237.489394\n",
       "2016     39     604  236.068182\n",
       "2015     45     589  231.804545"
      ]
     },
     "execution_count": 18,
     "metadata": {},
     "output_type": "execute_result"
    }
   ],
   "source": [
    "coor_pd['actual']=actual_pd\n",
    "coor_pd.drop('actual',axis=1,inplace=True)\n",
    "coor_pd.head()"
   ]
  },
  {
   "cell_type": "code",
   "execution_count": 19,
   "metadata": {},
   "outputs": [
    {
     "data": {
      "text/html": [
       "<div>\n",
       "<style scoped>\n",
       "    .dataframe tbody tr th:only-of-type {\n",
       "        vertical-align: middle;\n",
       "    }\n",
       "\n",
       "    .dataframe tbody tr th {\n",
       "        vertical-align: top;\n",
       "    }\n",
       "\n",
       "    .dataframe thead th {\n",
       "        text-align: right;\n",
       "    }\n",
       "</style>\n",
       "<table border=\"1\" class=\"dataframe\">\n",
       "  <thead>\n",
       "    <tr style=\"text-align: right;\">\n",
       "      <th></th>\n",
       "      <th>width</th>\n",
       "      <th>height</th>\n",
       "      <th>pred</th>\n",
       "      <th>0</th>\n",
       "    </tr>\n",
       "  </thead>\n",
       "  <tbody>\n",
       "    <tr>\n",
       "      <th>1980</th>\n",
       "      <td>300</td>\n",
       "      <td>39</td>\n",
       "      <td>50.600000</td>\n",
       "      <td>NaN</td>\n",
       "    </tr>\n",
       "    <tr>\n",
       "      <th>1981</th>\n",
       "      <td>293</td>\n",
       "      <td>55</td>\n",
       "      <td>55.574242</td>\n",
       "      <td>NaN</td>\n",
       "    </tr>\n",
       "    <tr>\n",
       "      <th>1982</th>\n",
       "      <td>288</td>\n",
       "      <td>71</td>\n",
       "      <td>59.127273</td>\n",
       "      <td>NaN</td>\n",
       "    </tr>\n",
       "    <tr>\n",
       "      <th>1983</th>\n",
       "      <td>280</td>\n",
       "      <td>86</td>\n",
       "      <td>64.812121</td>\n",
       "      <td>NaN</td>\n",
       "    </tr>\n",
       "    <tr>\n",
       "      <th>1984</th>\n",
       "      <td>278</td>\n",
       "      <td>102</td>\n",
       "      <td>66.233333</td>\n",
       "      <td>NaN</td>\n",
       "    </tr>\n",
       "  </tbody>\n",
       "</table>\n",
       "</div>"
      ],
      "text/plain": [
       "      width  height       pred   0\n",
       "1980    300      39  50.600000 NaN\n",
       "1981    293      55  55.574242 NaN\n",
       "1982    288      71  59.127273 NaN\n",
       "1983    280      86  64.812121 NaN\n",
       "1984    278     102  66.233333 NaN"
      ]
     },
     "execution_count": 19,
     "metadata": {},
     "output_type": "execute_result"
    }
   ],
   "source": [
    "pd.concat([coor_pd,actual_pd],axis=1).head()"
   ]
  },
  {
   "cell_type": "code",
   "execution_count": 20,
   "metadata": {},
   "outputs": [
    {
     "data": {
      "text/html": [
       "<div>\n",
       "<style scoped>\n",
       "    .dataframe tbody tr th:only-of-type {\n",
       "        vertical-align: middle;\n",
       "    }\n",
       "\n",
       "    .dataframe tbody tr th {\n",
       "        vertical-align: top;\n",
       "    }\n",
       "\n",
       "    .dataframe thead th {\n",
       "        text-align: right;\n",
       "    }\n",
       "</style>\n",
       "<table border=\"1\" class=\"dataframe\">\n",
       "  <thead>\n",
       "    <tr style=\"text-align: right;\">\n",
       "      <th></th>\n",
       "      <th>actual</th>\n",
       "      <th>width</th>\n",
       "      <th>height</th>\n",
       "      <th>pred</th>\n",
       "    </tr>\n",
       "  </thead>\n",
       "  <tbody>\n",
       "    <tr>\n",
       "      <th>2019</th>\n",
       "      <td>236.6</td>\n",
       "      <td>38</td>\n",
       "      <td>651</td>\n",
       "      <td>236.778788</td>\n",
       "    </tr>\n",
       "    <tr>\n",
       "      <th>2018</th>\n",
       "      <td>238.2</td>\n",
       "      <td>36</td>\n",
       "      <td>636</td>\n",
       "      <td>238.200000</td>\n",
       "    </tr>\n",
       "    <tr>\n",
       "      <th>2017</th>\n",
       "      <td>237.6</td>\n",
       "      <td>37</td>\n",
       "      <td>620</td>\n",
       "      <td>237.489394</td>\n",
       "    </tr>\n",
       "    <tr>\n",
       "      <th>2016</th>\n",
       "      <td>235.6</td>\n",
       "      <td>39</td>\n",
       "      <td>604</td>\n",
       "      <td>236.068182</td>\n",
       "    </tr>\n",
       "    <tr>\n",
       "      <th>2015</th>\n",
       "      <td>231.3</td>\n",
       "      <td>45</td>\n",
       "      <td>589</td>\n",
       "      <td>231.804545</td>\n",
       "    </tr>\n",
       "  </tbody>\n",
       "</table>\n",
       "</div>"
      ],
      "text/plain": [
       "      actual  width  height        pred\n",
       "2019   236.6     38     651  236.778788\n",
       "2018   238.2     36     636  238.200000\n",
       "2017   237.6     37     620  237.489394\n",
       "2016   235.6     39     604  236.068182\n",
       "2015   231.3     45     589  231.804545"
      ]
     },
     "execution_count": 20,
     "metadata": {},
     "output_type": "execute_result"
    }
   ],
   "source": [
    "coor_pd.insert(0,'actual',actual_pd)\n",
    "coor_pd.head()"
   ]
  }
 ],
 "metadata": {
  "kernelspec": {
   "display_name": "Python 3",
   "language": "python",
   "name": "python3"
  },
  "language_info": {
   "codemirror_mode": {
    "name": "ipython",
    "version": 3
   },
   "file_extension": ".py",
   "mimetype": "text/x-python",
   "name": "python",
   "nbconvert_exporter": "python",
   "pygments_lexer": "ipython3",
   "version": "3.7.6"
  }
 },
 "nbformat": 4,
 "nbformat_minor": 4
}
